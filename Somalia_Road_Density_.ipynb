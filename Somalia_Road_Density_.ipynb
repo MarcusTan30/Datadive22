{
 "cells": [
  {
   "cell_type": "markdown",
   "metadata": {
    "id": "XK0mam5RGROx"
   },
   "source": [
    "##Somalia Road Density\n",
    "This notebook seeks to look at the distribution of roads across the counties in Somalia."
   ]
  },
  {
   "cell_type": "code",
   "execution_count": null,
   "metadata": {
    "colab": {
     "base_uri": "https://localhost:8080/"
    },
    "id": "ddMTKJxzbpe4",
    "outputId": "74c40961-a4c0-4aec-9904-4d198d5283fa"
   },
   "outputs": [],
   "source": [
    "\n",
    "!pip install pyshp\n",
    "!pip install pyproj\n",
    "!pip install geopy\n",
    "\n",
    "!sudo apt install libspatialindex-dev\n",
    "!pip install rtree\n",
    "!pip install pygeos\n",
    "!pip install folium\n",
    "!pip install geopandas"
   ]
  },
  {
   "cell_type": "code",
   "execution_count": null,
   "metadata": {
    "id": "0772Fi2UldGe"
   },
   "outputs": [],
   "source": [
    "#import\n",
    "\n",
    "import pygeos\n",
    "from shapely.geometry import Point\n",
    "import geopandas as gpd\n",
    "import os\n",
    "import pandas as pd\n",
    "import numpy as np\n",
    "\n",
    "import shapefile\n",
    "import pyproj #https://stackoverflow.com/questions/68317672/coordinate-conversion-script-isnt-giving-me-an-accurate-reading-svy21-to-wgs84\n",
    "import geopy.distance #https://stackoverflow.com/questions/19412462/getting-distance-between-two-points-based-on-latitude-longitude\n",
    "\n",
    "import geopandas as gpd\n",
    "import folium\n",
    "import branca\n",
    "import branca.colormap as cm"
   ]
  },
  {
   "cell_type": "markdown",
   "metadata": {
    "id": "MRYmEFDDsbu7"
   },
   "source": [
    "Boiler plate code"
   ]
  },
  {
   "cell_type": "code",
   "execution_count": null,
   "metadata": {
    "id": "_lMQj6BSsaH8"
   },
   "outputs": [],
   "source": [
    "def makingmap(Dataset,name='road density'):\n",
    "  Somalia=[8.408416,48.4828]\n",
    "  map=folium.Map(location=Somalia, zoom_start=6)\n",
    "\n",
    "  #guide:https://towardsdatascience.com/the-battle-of-choropleths-part-3-folium-86ab1232afc\n",
    "\n",
    "  #First determine your maximum and minimum values - this becomes the basis for the steps in the map\n",
    "  vmax = Dataset['Region_road_Density'].max()\n",
    "  vmin = Dataset['Region_road_Density'].min()\n",
    "  colormap = cm.LinearColormap(colors=['red','orange','yellow', '#c7f6b6' ,'green'], \n",
    "                              vmin=vmin,\n",
    "                              vmax=vmax,caption= str(name) +' in Somalia')\n",
    "\n",
    "  n_steps = 7 # Quantiles\n",
    "  list_of_values = Dataset['Region_road_Density'].sort_values()\n",
    "  #Remove all 0's as the geopandas version did not count 0 on the count of merging\n",
    "  list_of_values = [i for i in list_of_values if i != 0]\n",
    "  length = len(list_of_values)\n",
    "  index = [list_of_values[int((length/n_steps)*i)] for i in range(n_steps)]\n",
    "  print(index)\n",
    "  colormap = colormap.to_step(index=index)\n",
    "  colormap.add_to(map)\n",
    "  #Add the colormap as a legend\n",
    "\n",
    "\n",
    "  # First create a function that would call on these values\n",
    "  style_function = lambda x: {\"weight\":1.0, \n",
    "                              'color':'brown',\n",
    "                              'fillColor':colormap(x['properties']['Region_road_Density']), \n",
    "                              'fillOpacity':0.3}\n",
    "\n",
    "  #Save it as an object so you can add it\n",
    "  Dataset=gpd.GeoDataFrame(Dataset,geometry='geometry')\n",
    "\n",
    "  for _, r in Dataset.iterrows():\n",
    "      sim_geo = gpd.GeoSeries(r['geometry']).simplify(tolerance=0.001)\n",
    "      geo_j = sim_geo.to_json()\n",
    "      geo_j = folium.GeoJson(data=Dataset,style_function=style_function,\n",
    "                            overlay=True)\n",
    "      geo_j.add_to(map)  \n",
    "\n",
    "  display(map)\n",
    "  map.save('/content/'+ name +'.html')"
   ]
  },
  {
   "cell_type": "markdown",
   "metadata": {
    "id": "lJO5_TM2kkeS"
   },
   "source": [
    "Extracting and converting the necessary Shapefile data into Geodataframes\n",
    "\n",
    "Somalia_all_roads data link:https://data.humdata.org/dataset/56077ecb-d91d-4836-9431-9c00ab122a02/resource/035c6614-759c-492b-bea3-aaef5e342350/download/somalia_allroads.zip\n",
    "\n",
    "Somalia regional data link:https://geoportal.icpac.net/layers/geonode%3Asom_admbnda_adm2_undp"
   ]
  },
  {
   "cell_type": "code",
   "execution_count": null,
   "metadata": {
    "id": "Nm6OtAtskkeX"
   },
   "outputs": [],
   "source": [
    "#Turning Somalia_all_road_shp to Geo_Dataframe\n",
    "Road_shp = gpd.read_file('https://data.humdata.org/dataset/56077ecb-d91d-4836-9431-9c00ab122a02/resource/035c6614-759c-492b-bea3-aaef5e342350/download/somalia_allroads.zip')\n",
    "Road_shp.geometry=Road_shp.geometry.to_crs(epsg='4326')\n",
    "\n",
    "#Turning Somalia Regional data into Geo_Dataframe\n",
    "Region_shp= gpd.read_file('https://geoportal.icpac.net/geoserver/ows?service=WFS&version=1.0.0&request=GetFeature&typename=geonode%3Asom_admbnda_adm2_undp&outputFormat=SHAPE-ZIP&srs=EPSG%3A4326&format_options=charset%3AUTF-8')\n",
    "Region_shp.geometry=Region_shp.geometry.to_crs(epsg='4326')"
   ]
  },
  {
   "cell_type": "markdown",
   "metadata": {
    "id": "4_pN80n5P_5x"
   },
   "source": [
    "## Choropleth of road density in Somalia"
   ]
  },
  {
   "cell_type": "code",
   "execution_count": null,
   "metadata": {
    "colab": {
     "base_uri": "https://localhost:8080/",
     "height": 1000
    },
    "id": "5TD6uISakkeZ",
    "outputId": "33816c26-2ee8-4470-9b81-7ed11a4b86d9"
   },
   "outputs": [],
   "source": [
    "#get Area of region\n",
    "Region_shp['Area']=Region_shp.geometry.area\n",
    "#Look at which road intersects with what region\n",
    "Road_within_Region=gpd.sjoin(Road_shp,Region_shp,predicate='intersects')\n",
    "\n",
    "print(Road_within_Region)\n",
    "#Do a count\n",
    "Rcount_within_Region=pd.DataFrame(Road_within_Region,columns=['admin2Name','TYPE'])\n",
    "Rcount_within_Region.reset_index(inplace=True)\n",
    "Rcount_within_Region_bytown=Rcount_within_Region.groupby(['admin2Name','TYPE']).count()\n",
    "Rcount_within_Region_bytown.rename(columns={\"index\":\"Number_of_road\"},inplace=True)\n",
    "Rcount_within_Region_bytown.reset_index(inplace=True)"
   ]
  },
  {
   "cell_type": "code",
   "execution_count": null,
   "metadata": {},
   "outputs": [],
   "source": [
    "#Major road\n",
    "Major_Road_density=Rcount_within_Region_bytown.loc[(Rcount_within_Region_bytown['TYPE']=='Major road')]\n",
    "Major_Road_density=pd.merge(Region_shp[['Area','admin2Name','geometry']],Major_Road_density,how='left',on='admin2Name')\n",
    "Major_Road_density['Number_of_road']=Major_Road_density['Number_of_road'].fillna(0.01)\n",
    "Major_Road_density['Region_road_Density']=Major_Road_density.apply(lambda x: x.Number_of_road/x.Area,axis=1)\n",
    "\n",
    "makingmap(Major_Road_density,'Major road density')"
   ]
  },
  {
   "cell_type": "code",
   "execution_count": null,
   "metadata": {
    "colab": {
     "base_uri": "https://localhost:8080/",
     "height": 569
    },
    "id": "RukHXCTLJ_kF",
    "outputId": "61ad7a14-4007-4761-c977-008a748b5e7f"
   },
   "outputs": [],
   "source": [
    "#Secondary road\n",
    "Secondary_road_density=Rcount_within_Region_bytown.loc[(Rcount_within_Region_bytown['TYPE']=='Secondary road')]\n",
    "Secondary_road_density=pd.merge(Region_shp[['Area','admin2Name','geometry']],Secondary_road_density,how='left',on='admin2Name')\n",
    "Secondary_road_density['Number_of_road']=Secondary_road_density['Number_of_road'].fillna(0.01)\n",
    "Secondary_road_density['Region_road_Density']=Secondary_road_density.apply(lambda x: x.Number_of_road/x.Area,axis=1)\n",
    "\n",
    "makingmap(Secondary_road_density,'Secondary road density')\n"
   ]
  },
  {
   "cell_type": "code",
   "execution_count": null,
   "metadata": {
    "colab": {
     "base_uri": "https://localhost:8080/",
     "height": 569
    },
    "id": "3fQqsZMtJ_7F",
    "outputId": "6a3ce9ed-df5f-4914-baf8-895cab7ccbcb"
   },
   "outputs": [],
   "source": [
    "#Track\n",
    "Track_density=Rcount_within_Region_bytown.loc[(Rcount_within_Region_bytown['TYPE']=='Track')]\n",
    "Track_density=pd.merge(Region_shp[['Area','admin2Name','geometry']],Track_density,on='admin2Name')\n",
    "Track_density['Region_road_Density']=Track_density.apply(lambda x: x.Number_of_road/x.Area,axis=1)\n",
    "\n",
    "makingmap(Track_density,'Track_density')\n"
   ]
  },
  {
   "cell_type": "markdown",
   "metadata": {
    "id": "oVtd11S5rFIP"
   },
   "source": [
    "##Map with Road\n",
    "\n"
   ]
  },
  {
   "cell_type": "code",
   "execution_count": null,
   "metadata": {
    "id": "5KYkHc_RQyyS"
   },
   "outputs": [],
   "source": [
    "Somalia=[8.408416,48.4828]\n",
    "map=folium.Map(location=Somalia, zoom_start=6)\n",
    "\n",
    "\n",
    "#link:https://geopandas.org/en/stable/gallery/polygon_plotting_with_folium.html\n",
    "\n",
    "#Code to add layers of road\n",
    "def Addlayer(road='',color='red',weight=1.0):\n",
    "  for _, r in Road_shp.loc[(Road_shp['TYPE']==road)].iterrows():\n",
    "      sim_geo = gpd.GeoSeries(r['geometry']).simplify(tolerance=0.001)\n",
    "      geo_j = sim_geo.to_json()\n",
    "      geo_j = folium.GeoJson(data=geo_j,\n",
    "                            style_function=lambda x: {\"weight\":weight,'color': color})\n",
    "      geo_j.add_to(map)\n",
    "    \n",
    "##Add county boundaries\n",
    "\n",
    "\n",
    "#make map      \n",
    "Somalia=[8.408416,48.4828]\n",
    "map=folium.Map(location=Somalia, zoom_start=6)\n",
    "Addlayer('Secondary road','orange',2.0) #add secondary layer\n",
    "Addlayer('Track','brown',0.5) #Add Track Layer\n",
    "Addlayer('Major road','blue',3.5) #Add Major road layer\n",
    "\n",
    "    \n",
    "display(map)\n",
    "map.save('roads.html')"
   ]
  }
 ],
 "metadata": {
  "colab": {
   "provenance": []
  },
  "kernelspec": {
   "display_name": "Python 3 (ipykernel)",
   "language": "python",
   "name": "python3"
  },
  "language_info": {
   "codemirror_mode": {
    "name": "ipython",
    "version": 3
   },
   "file_extension": ".py",
   "mimetype": "text/x-python",
   "name": "python",
   "nbconvert_exporter": "python",
   "pygments_lexer": "ipython3",
   "version": "3.8.13"
  }
 },
 "nbformat": 4,
 "nbformat_minor": 4
}
